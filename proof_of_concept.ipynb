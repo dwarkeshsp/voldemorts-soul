{
 "cells": [
  {
   "cell_type": "code",
   "execution_count": 18,
   "metadata": {},
   "outputs": [],
   "source": [
    "from __future__ import print_function, unicode_literals\n",
    "from os import urandom"
   ]
  },
  {
   "cell_type": "code",
   "execution_count": 19,
   "metadata": {},
   "outputs": [],
   "source": [
    "def genkey(length: int) -> bytes:\n",
    "    \"\"\"Generate key.\"\"\"\n",
    "    return urandom(length)\n",
    "    \n",
    "\n",
    "def xor_strings(s, t) -> bytes:\n",
    "    \"\"\"xor two strings together.\"\"\"\n",
    "    if isinstance(s, str):\n",
    "        # Text strings contain single characters\n",
    "        return b\"\".join(chr(ord(a) ^ ord(b)) for a, b in zip(s, t))\n",
    "    else:\n",
    "        # Python 3 bytes objects contain integer values in the range 0-255\n",
    "        return bytes([a ^ b for a, b in zip(s, t)])"
   ]
  },
  {
   "cell_type": "code",
   "execution_count": 20,
   "metadata": {},
   "outputs": [],
   "source": [
    "def get_root(message) -> bytes:\n",
    "    root = message\n",
    "    while len(root) > 1:\n",
    "        temp = []\n",
    "        for i in range(len(root)): \n",
    "            if i % 2 == 0:\n",
    "                temp.append(xor_strings(root[i], root[i + 1]))\n",
    "        root = temp\n",
    "    return root[0]"
   ]
  },
  {
   "cell_type": "code",
   "execution_count": 21,
   "metadata": {},
   "outputs": [
    {
     "data": {
      "text/plain": [
       "b'\\xc1\\x00\\xf3?'"
      ]
     },
     "execution_count": 21,
     "metadata": {},
     "output_type": "execute_result"
    }
   ],
   "source": [
    "message = [genkey(4) for _ in range(8)]\n",
    "root = get_root(message)\n",
    "root\n"
   ]
  },
  {
   "cell_type": "code",
   "execution_count": 22,
   "metadata": {},
   "outputs": [
    {
     "data": {
      "text/plain": [
       "b'\\xc1\\x00\\xf3?'"
      ]
     },
     "execution_count": 22,
     "metadata": {},
     "output_type": "execute_result"
    }
   ],
   "source": [
    "encrypted_message = [xor_strings(message[i], root) for i in range(len(message))]\n",
    "root = get_root(encrypted_message)\n",
    "root"
   ]
  }
 ],
 "metadata": {
  "kernelspec": {
   "display_name": "Python 3",
   "language": "python",
   "name": "python3"
  },
  "language_info": {
   "codemirror_mode": {
    "name": "ipython",
    "version": 3
   },
   "file_extension": ".py",
   "mimetype": "text/x-python",
   "name": "python",
   "nbconvert_exporter": "python",
   "pygments_lexer": "ipython3",
   "version": "3.8.3"
  }
 },
 "nbformat": 4,
 "nbformat_minor": 4
}
